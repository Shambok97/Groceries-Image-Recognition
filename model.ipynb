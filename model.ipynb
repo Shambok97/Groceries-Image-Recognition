{
 "cells": [
  {
   "cell_type": "code",
   "execution_count": 2,
   "metadata": {},
   "outputs": [
    {
     "name": "stdout",
     "output_type": "stream",
     "text": [
      "Model loaded successfully.\n"
     ]
    },
    {
     "name": "stderr",
     "output_type": "stream",
     "text": [
      "2023-11-26 12:39:33.029725: I tensorflow/core/grappler/optimizers/custom_graph_optimizer_registry.cc:117] Plugin optimizer for device_type GPU is enabled.\n"
     ]
    },
    {
     "name": "stdout",
     "output_type": "stream",
     "text": [
      "1/1 [==============================] - 0s 491ms/step\n",
      "1/1 [==============================] - 0s 12ms/step\n",
      "1/1 [==============================] - 0s 12ms/step\n",
      "1/1 [==============================] - 0s 12ms/step\n",
      "1/1 [==============================] - 0s 11ms/step\n",
      "1/1 [==============================] - 0s 12ms/step\n",
      "1/1 [==============================] - 0s 13ms/step\n",
      "1/1 [==============================] - 0s 12ms/step\n",
      "1/1 [==============================] - 0s 12ms/step\n",
      "Image: /Users/shambokarar/Desktop/Personal Study/Portfolio Projects/Groceries-Image-Recognition/test/apple/Image_10.jpg, Predicted class index: 0\n",
      "Image: /Users/shambokarar/Desktop/Personal Study/Portfolio Projects/Groceries-Image-Recognition/test/apple/Image_8.jpg, Predicted class index: 0\n",
      "Image: /Users/shambokarar/Desktop/Personal Study/Portfolio Projects/Groceries-Image-Recognition/test/apple/Image_9.jpg, Predicted class index: 11\n",
      "Image: /Users/shambokarar/Desktop/Personal Study/Portfolio Projects/Groceries-Image-Recognition/test/apple/Image_2.jpg, Predicted class index: 0\n",
      "Image: /Users/shambokarar/Desktop/Personal Study/Portfolio Projects/Groceries-Image-Recognition/test/apple/Image_3.jpg, Predicted class index: 0\n",
      "Image: /Users/shambokarar/Desktop/Personal Study/Portfolio Projects/Groceries-Image-Recognition/test/apple/Image_1.jpg, Predicted class index: 0\n",
      "Image: /Users/shambokarar/Desktop/Personal Study/Portfolio Projects/Groceries-Image-Recognition/test/apple/Image_4.jpg, Predicted class index: 9\n",
      "Image: /Users/shambokarar/Desktop/Personal Study/Portfolio Projects/Groceries-Image-Recognition/test/apple/Image_5.jpg, Predicted class index: 0\n",
      "Image: /Users/shambokarar/Desktop/Personal Study/Portfolio Projects/Groceries-Image-Recognition/test/apple/Image_7.jpg, Predicted class index: 0\n"
     ]
    }
   ],
   "source": [
    "import os\n",
    "import numpy as np\n",
    "from tensorflow.keras.models import load_model\n",
    "from tensorflow.keras.preprocessing import image\n",
    "from tensorflow.keras.applications.mobilenet_v2 import preprocess_input, decode_predictions\n",
    "\n",
    "# Load the saved model\n",
    "model = load_model(\"image_recognition_model.keras\")\n",
    "print(\"Model loaded successfully.\")\n",
    "\n",
    "def preprocess_image(img_path):\n",
    "    \"\"\"\n",
    "    Preprocesses an image for model inference.\n",
    "\n",
    "    Parameters:\n",
    "    - img_path: Path to the input image file.\n",
    "\n",
    "    Returns:\n",
    "    - Processed image array suitable for model prediction.\n",
    "    \"\"\"\n",
    "    img = image.load_img(img_path, target_size=(224, 224))\n",
    "    img_array = image.img_to_array(img)\n",
    "    img_array = np.expand_dims(img_array, axis=0)\n",
    "    img_array = preprocess_input(img_array)  # Normalize pixel values\n",
    "    return img_array\n",
    "\n",
    "def predict_class(img_path):\n",
    "    \"\"\"\n",
    "    Performs inference on a given image and returns the predicted class.\n",
    "\n",
    "    Parameters:\n",
    "    - img_path: Path to the input image file.\n",
    "\n",
    "    Returns:\n",
    "    - Predicted class index.\n",
    "    \"\"\"\n",
    "    # Preprocess the image\n",
    "    processed_image = preprocess_image(img_path)\n",
    "\n",
    "    # Make predictions\n",
    "    predictions = model.predict(processed_image)\n",
    "    predicted_class = np.argmax(predictions)\n",
    "\n",
    "    return predicted_class\n",
    "\n",
    "def predict_class_for_directory(directory_path):\n",
    "    \"\"\"\n",
    "    Performs inference on all images in a given directory.\n",
    "\n",
    "    Parameters:\n",
    "    - directory_path: Path to the directory containing image files.\n",
    "\n",
    "    Returns:\n",
    "    - List of tuples (image_path, predicted_class).\n",
    "    \"\"\"\n",
    "    results = []\n",
    "\n",
    "    for filename in os.listdir(directory_path):\n",
    "        if filename.endswith(('.jpg', '.jpeg', '.png')):\n",
    "            image_path = os.path.join(directory_path, filename)\n",
    "            predicted_class = predict_class(image_path)\n",
    "            results.append((image_path, predicted_class))\n",
    "\n",
    "    return results\n",
    "\n",
    "if __name__ == \"__main__\":\n",
    "    # Example usage for a directory\n",
    "    test_directory = \"/Users/shambokarar/Desktop/Personal Study/Portfolio Projects/Groceries-Image-Recognition/test\"\n",
    "    predictions = predict_class_for_directory(test_directory)\n",
    "\n",
    "    for image_path, predicted_class in predictions:\n",
    "        print(f\"Image: {image_path}, Predicted class index: {predicted_class}\")\n"
   ]
  }
 ],
 "metadata": {
  "kernelspec": {
   "display_name": "groceries",
   "language": "python",
   "name": "python3"
  },
  "language_info": {
   "codemirror_mode": {
    "name": "ipython",
    "version": 3
   },
   "file_extension": ".py",
   "mimetype": "text/x-python",
   "name": "python",
   "nbconvert_exporter": "python",
   "pygments_lexer": "ipython3",
   "version": "3.10.13"
  }
 },
 "nbformat": 4,
 "nbformat_minor": 2
}
